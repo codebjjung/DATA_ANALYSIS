{
  "nbformat": 4,
  "nbformat_minor": 0,
  "metadata": {
    "colab": {
      "provenance": [],
      "authorship_tag": "ABX9TyPM8fcRgDzlPDNhO5E+1qid",
      "include_colab_link": true
    },
    "kernelspec": {
      "name": "python3",
      "display_name": "Python 3"
    },
    "language_info": {
      "name": "python"
    }
  },
  "cells": [
    {
      "cell_type": "markdown",
      "metadata": {
        "id": "view-in-github",
        "colab_type": "text"
      },
      "source": [
        "<a href=\"https://colab.research.google.com/github/codebjjung/DATA_ANALYSIS/blob/main/lab2_linear.ipynb\" target=\"_parent\"><img src=\"https://colab.research.google.com/assets/colab-badge.svg\" alt=\"Open In Colab\"/></a>"
      ]
    },
    {
      "cell_type": "code",
      "execution_count": 9,
      "metadata": {
        "id": "FTFwIaU1-vNW"
      },
      "outputs": [],
      "source": [
        "import tensorflow as tf"
      ]
    },
    {
      "cell_type": "code",
      "source": [
        "x_data = [1,2,3,4,5]\n",
        "y_data = [1,2,3,4,5]"
      ],
      "metadata": {
        "id": "w3ror5DrAAj4"
      },
      "execution_count": 10,
      "outputs": []
    },
    {
      "cell_type": "code",
      "source": [
        "W = tf.Variable(2.9)\n",
        "b = tf.Variable(0.5)"
      ],
      "metadata": {
        "id": "KJZXCa5uAE-G"
      },
      "execution_count": 11,
      "outputs": []
    },
    {
      "cell_type": "code",
      "source": [
        "learning_rate = 0.01\n",
        "\n",
        "for i in range(100+1):\n",
        "  with tf.GradientTape() as tape:\n",
        "    hypothesis = W * x_data + b\n",
        "    cost = tf.reduce_mean(tf.square(hypothesis - y_data))\n",
        "\n",
        "  W_grad, b_grad = tape.gradient(cost, [W,b])\n",
        "  W.assign_sub(learning_rate * W_grad)\n",
        "  b.assign_sub(learning_rate * b_grad)\n",
        "  if i % 10 == 0:\n",
        "    print(\"{:5} | {:10.4f} | {:10.4f} | {:10.6f}\".format(i, W.numpy(), b.numpy(), cost))"
      ],
      "metadata": {
        "colab": {
          "base_uri": "https://localhost:8080/"
        },
        "id": "OCs_fmdaAKZM",
        "outputId": "54739186-711b-45bd-c2e3-f4e5510c0385"
      },
      "execution_count": 12,
      "outputs": [
        {
          "output_type": "stream",
          "name": "stdout",
          "text": [
            "    0 |     2.4520 |     0.3760 |  45.660004\n",
            "   10 |     1.1036 |     0.0034 |   0.206336\n",
            "   20 |     1.0128 |    -0.0209 |   0.001026\n",
            "   30 |     1.0065 |    -0.0218 |   0.000093\n",
            "   40 |     1.0059 |    -0.0212 |   0.000083\n",
            "   50 |     1.0057 |    -0.0205 |   0.000077\n",
            "   60 |     1.0055 |    -0.0198 |   0.000072\n",
            "   70 |     1.0053 |    -0.0192 |   0.000067\n",
            "   80 |     1.0051 |    -0.0185 |   0.000063\n",
            "   90 |     1.0050 |    -0.0179 |   0.000059\n",
            "  100 |     1.0048 |    -0.0173 |   0.000055\n"
          ]
        }
      ]
    },
    {
      "cell_type": "code",
      "source": [],
      "metadata": {
        "id": "y-osSi9DA-_l"
      },
      "execution_count": null,
      "outputs": []
    }
  ]
}