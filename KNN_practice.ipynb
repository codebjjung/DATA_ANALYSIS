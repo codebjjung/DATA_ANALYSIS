{
  "cells": [
    {
      "cell_type": "markdown",
      "metadata": {
        "id": "view-in-github",
        "colab_type": "text"
      },
      "source": [
        "<a href=\"https://colab.research.google.com/github/codebjjung/DATA_ANALYSIS/blob/main/KNN_practice.ipynb\" target=\"_parent\"><img src=\"https://colab.research.google.com/assets/colab-badge.svg\" alt=\"Open In Colab\"/></a>"
      ]
    },
    {
      "cell_type": "code",
      "execution_count": 40,
      "metadata": {
        "id": "am21Rb-_KD4g"
      },
      "outputs": [],
      "source": [
        "import pandas as pd\n",
        "import numpy as np\n",
        "import matplotlib.pyplot as plt"
      ]
    },
    {
      "cell_type": "code",
      "execution_count": 41,
      "metadata": {
        "colab": {
          "base_uri": "https://localhost:8080/"
        },
        "id": "ct4XtnfEKGBl",
        "outputId": "14c0e298-a0f5-483a-dd52-d371bfaf0704"
      },
      "outputs": [
        {
          "output_type": "stream",
          "name": "stdout",
          "text": [
            "Drive already mounted at /content/gdrive/; to attempt to forcibly remount, call drive.mount(\"/content/gdrive/\", force_remount=True).\n"
          ]
        }
      ],
      "source": [
        "from google.colab import drive\n",
        "drive.mount(\"/content/gdrive/\")"
      ]
    },
    {
      "cell_type": "code",
      "execution_count": 42,
      "metadata": {
        "colab": {
          "base_uri": "https://localhost:8080/"
        },
        "id": "dIyWiwdrKQo0",
        "outputId": "8655ca84-2fe8-4ba5-d3ef-3b50184daa42"
      },
      "outputs": [
        {
          "output_type": "stream",
          "name": "stdout",
          "text": [
            "/content/gdrive/MyDrive/Colab Notebooks/open\n"
          ]
        }
      ],
      "source": [
        "cd /content/gdrive/MyDrive/Colab Notebooks/open/"
      ]
    },
    {
      "cell_type": "code",
      "execution_count": 60,
      "metadata": {
        "colab": {
          "base_uri": "https://localhost:8080/",
          "height": 595
        },
        "id": "fPI8kTlJNDNo",
        "outputId": "cd3420e6-8f56-4e47-e89d-6161c6354573"
      },
      "outputs": [
        {
          "output_type": "stream",
          "name": "stdout",
          "text": [
            "[14.588008774332426, 10.732660434393699, 3.4842502780368685, 10.113851887386923, 4.348562981031773, 0.8660254037844386, 26.826106687329787, 2.2715633383201106, 6.89855057240287, 1.8681541692269414, 9.736015612148536, 31.94385699942949]\n",
            "[5 9 7]\n",
            "[170, 170, 160]\n",
            "[6.38827050147378, 9.756536270623917, 22.880996481796853, 29.70336681253491, 16.084464554345605, 19.691368667515217, 46.90031982833379, 21.66010156947562, 26.600563903797223, 19.816407343411168, 10.714009520249641, 12.345444503945581]\n",
            "[ 0  1 10]\n",
            "[180, 180, 170]\n",
            "[20.688402548287765, 16.875722206767918, 4.953786430600337, 5.6471231613982, 10.68222823197482, 7.262919523166975, 21.005713508471924, 5.28772162656091, 1.4798648586948717, 7.286288492778746, 15.993436153622525, 37.99486807451765]\n",
            "[8 2 7]\n",
            "[160, 170, 160]\n"
          ]
        },
        {
          "output_type": "display_data",
          "data": {
            "text/plain": [
              "<Figure size 640x480 with 1 Axes>"
            ],
            "image/png": "[encoded data removed]"
          },
          "metadata": {}
        }
      ],
      "source": [
        "class KNN:\n",
        "    def __init__(self, k=3):\n",
        "        self.k = k\n",
        "\n",
        "    def fit(self, X, y):\n",
        "        self.X_train = X\n",
        "        self.y_train = y\n",
        "\n",
        "    def predict(self, X):\n",
        "        y_pred = [self._predict(x) for x in X]\n",
        "        return np.array(y_pred)\n",
        "\n",
        "    def _predict(self, x):\n",
        "\n",
        "        # X_train과 X의 거리 계산\n",
        "        distances = []\n",
        "        for x_train in self.X_train:\n",
        "          distance = 0\n",
        "          for i in range(len(x)):\n",
        "            distance += (x[i] - x_train[i])**2\n",
        "            distance = distance**0.5\n",
        "          distances.append(distance)\n",
        "\n",
        "        # 그중에서 k개의 거리만 배열\n",
        "        k_indices = np.argsort(distances)[:self.k]\n",
        "\n",
        "        print(distances)\n",
        "        print(k_indices)\n",
        "\n",
        "\n",
        "        # 배열 중에서 y_train\n",
        "        k_nearest_labels = [self.y_train[i] for i in k_indices]\n",
        "        print(k_nearest_labels)\n",
        "\n",
        "        # 가장 빈도가 높은 그룹에 배정\n",
        "        most_common = np.bincount(k_nearest_labels).argmax()\n",
        "        #print(most_common)\n",
        "        return most_common\n",
        "\n",
        "data = pd.read_excel(\"random.xlsx\")\n",
        "# 가상의 데이터 생성\n",
        "X_train = data[['Height','Weight']].values\n",
        "y_train = data['Group'].values\n",
        "X_test = np.array([[173,68], [181, 88], [163,62]])\n",
        "\n",
        "# KNN 모델 생성 및 훈련\n",
        "knn = KNN(k=3)\n",
        "knn.fit(X_train, y_train)\n",
        "\n",
        "# 테스트 데이터 예측\n",
        "predictions = knn.predict(X_test)\n",
        "\n",
        "# 결과 시각화\n",
        "plt.scatter(X_train[y_train == 160][:, 0], X_train[y_train == 160][:, 1], color='y', label='160')\n",
        "plt.scatter(X_train[y_train == 170][:, 0], X_train[y_train == 170][:, 1], color='b', label='170')\n",
        "plt.scatter(X_train[y_train == 180][:, 0], X_train[y_train == 180][:, 1], color='r', label='180')\n",
        "plt.scatter(X_test[:, 0], X_test[:, 1], color='g', label='Test Data')\n",
        "\n",
        "for i, pred in enumerate(predictions):\n",
        "    plt.annotate(f'Prediction: {pred}', (X_test[i, 0], X_test[i, 1]), textcoords=\"offset points\", xytext=(0, 10), ha='center')\n",
        "\n",
        "plt.legend()\n",
        "plt.show()"
      ]
    },
    {
      "cell_type": "code",
      "execution_count": null,
      "metadata": {
        "id": "8OfFAY0lND89"
      },
      "outputs": [],
      "source": []
    }
  ],
  "metadata": {
    "colab": {
      "provenance": [],
      "authorship_tag": "ABX9TyP7wyzWryHkEZ+ETQ35bfS6",
      "include_colab_link": true
    },
    "kernelspec": {
      "display_name": "Python 3",
      "name": "python3"
    },
    "language_info": {
      "name": "python"
    }
  },
  "nbformat": 4,
  "nbformat_minor": 0
}