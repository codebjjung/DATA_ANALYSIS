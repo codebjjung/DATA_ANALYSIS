{
  "nbformat": 4,
  "nbformat_minor": 0,
  "metadata": {
    "colab": {
      "provenance": [],
      "authorship_tag": "ABX9TyM2cFoUT3XsMpvgBg3Maola",
      "include_colab_link": true
    },
    "kernelspec": {
      "name": "python3",
      "display_name": "Python 3"
    },
    "language_info": {
      "name": "python"
    }
  },
  "cells": [
    {
      "cell_type": "markdown",
      "metadata": {
        "id": "view-in-github",
        "colab_type": "text"
      },
      "source": [
        "<a href=\"https://colab.research.google.com/github/codebjjung/DATA_ANALYSIS/blob/main/KMeans_clustering_with_non_scikit.ipynb\" target=\"_parent\"><img src=\"https://colab.research.google.com/assets/colab-badge.svg\" alt=\"Open In Colab\"/></a>"
      ]
    },
    {
      "cell_type": "code",
      "execution_count": 68,
      "metadata": {
        "id": "HSpHbyAW0-1H"
      },
      "outputs": [],
      "source": [
        "# KMeans clustering\n",
        "# 1. 군집 갯수 설정 // 2. 초기 중심점 설정 // 3. 데이터 군집에 배정 // 4. 중심점 재설정 // 5. 데이터 재배정"
      ]
    },
    {
      "cell_type": "code",
      "source": [
        "#library\n",
        "import numpy as np\n",
        "import matplotlib.pyplot as plt"
      ],
      "metadata": {
        "id": "jyN47tIq-nyp"
      },
      "execution_count": 69,
      "outputs": []
    },
    {
      "cell_type": "code",
      "source": [
        "#dataset\n",
        "np.random.seed(0)\n",
        "data = np.random.rand(100,2)\n",
        "X = np.array([[175,63],\n",
        "             [166,58],\n",
        "             [171,68],\n",
        "             [161,63],\n",
        "             [171,53]])"
      ],
      "metadata": {
        "id": "akCP9TRa1JmD"
      },
      "execution_count": 70,
      "outputs": []
    },
    {
      "cell_type": "code",
      "source": [
        "# K-Means 알고리즘 구현\n",
        "def kmeans(X, k, max_iters=10000):\n",
        "    # 2. 초기 중심점 설정\n",
        "    np.random.shuffle(X)\n",
        "    centroids = X[:k]\n",
        "\n",
        "    for _ in range(max_iters):\n",
        "        # 3. 데이터 군집에 배정\n",
        "        labels = np.argmin(np.linalg.norm(X[:,np.newaxis] - centroids, axis=2), axis=1)\n",
        "\n",
        "        # 4. 중심점 재설정\n",
        "        new_centroids = np.array([X[labels == i].mean(axis=0) for i in range(k)])\n",
        "\n",
        "        # 클러스터 중심이 수렴하면 종료\n",
        "        if np.all(centroids == new_centroids):\n",
        "            break\n",
        "\n",
        "        centroids = new_centroids\n",
        "\n",
        "    return centroids, labels\n",
        "\n",
        "# 클러스터 실행\n",
        "k = 2\n",
        "centroids, labels = kmeans(X, k)"
      ],
      "metadata": {
        "id": "V6s7Su1c1aq7"
      },
      "execution_count": 83,
      "outputs": []
    },
    {
      "cell_type": "code",
      "source": [
        "# 결과 시각화\n",
        "plt.scatter(X[:,0], X[:,1], c=labels, s=50)\n",
        "plt.scatter(centroids[:,0], centroids[:,1], c='red', s=200, alpha=0.75)\n",
        "plt.xlabel(\"Height\")\n",
        "plt.ylabel(\"Weight\")\n",
        "plt.show()"
      ],
      "metadata": {
        "colab": {
          "base_uri": "https://localhost:8080/",
          "height": 449
        },
        "id": "ZRvZRbla1rBb",
        "outputId": "b3d3ac4a-ec73-41bf-e03f-ca7fd1f735b6"
      },
      "execution_count": 84,
      "outputs": [
        {
          "output_type": "display_data",
          "data": {
            "text/plain": [
              "<Figure size 640x480 with 1 Axes>"
            ],
            "image/png": "[encoded data removed]"
          },
          "metadata": {}
        }
      ]
    },
    {
      "cell_type": "code",
      "source": [],
      "metadata": {
        "id": "YLatnQ231u3K"
      },
      "execution_count": null,
      "outputs": []
    }
  ]
}