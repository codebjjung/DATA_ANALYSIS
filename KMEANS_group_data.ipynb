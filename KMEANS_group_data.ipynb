{
  "nbformat": 4,
  "nbformat_minor": 0,
  "metadata": {
    "colab": {
      "provenance": [],
      "authorship_tag": "ABX9TyMbqW7z7n+0wXp9dqjDrq30",
      "include_colab_link": true
    },
    "kernelspec": {
      "name": "python3",
      "display_name": "Python 3"
    },
    "language_info": {
      "name": "python"
    }
  },
  "cells": [
    {
      "cell_type": "markdown",
      "metadata": {
        "id": "view-in-github",
        "colab_type": "text"
      },
      "source": [
        "<a href=\"https://colab.research.google.com/github/codebjjung/DATA_ANALYSIS/blob/main/KMEANS_group_data.ipynb\" target=\"_parent\"><img src=\"https://colab.research.google.com/assets/colab-badge.svg\" alt=\"Open In Colab\"/></a>"
      ]
    },
    {
      "cell_type": "code",
      "execution_count": null,
      "metadata": {
        "id": "HSpHbyAW0-1H"
      },
      "outputs": [],
      "source": [
        "# KMeans clustering\n",
        "# 1. 군집 갯수 설정 // 2. 초기 중심점 설정 // 3. 데이터 군집에 배정 // 4. 중심점 재설정 // 5. 데이터 재배정"
      ]
    },
    {
      "cell_type": "code",
      "source": [
        "#library\n",
        "import pandas as pd\n",
        "import numpy as np\n",
        "import matplotlib.pyplot as plt"
      ],
      "metadata": {
        "id": "jyN47tIq-nyp"
      },
      "execution_count": 2,
      "outputs": []
    },
    {
      "cell_type": "code",
      "source": [
        "from google.colab import drive\n",
        "drive.mount(\"/content/gdrive/\")"
      ],
      "metadata": {
        "colab": {
          "base_uri": "https://localhost:8080/"
        },
        "id": "VjuvU4bxUyj0",
        "outputId": "68f86876-e5e2-43c6-ac9f-eb7453823209"
      },
      "execution_count": 3,
      "outputs": [
        {
          "output_type": "stream",
          "name": "stdout",
          "text": [
            "Mounted at /content/gdrive/\n"
          ]
        }
      ]
    },
    {
      "cell_type": "code",
      "source": [
        "cd /content/gdrive/MyDrive/Colab Notebooks/open/"
      ],
      "metadata": {
        "colab": {
          "base_uri": "https://localhost:8080/"
        },
        "id": "gSpbZ7E9i3Jr",
        "outputId": "ba1fdd3e-6c7c-4fb0-c70f-a5e4d8e6c7bb"
      },
      "execution_count": 4,
      "outputs": [
        {
          "output_type": "stream",
          "name": "stdout",
          "text": [
            "/content/gdrive/MyDrive/Colab Notebooks/open\n"
          ]
        }
      ]
    },
    {
      "cell_type": "code",
      "source": [
        "#dataset\n",
        "#df = pd.read_csv('linear.csv')\n",
        "df = pd.read_excel('group.xlsx')\n",
        "numpy_array = df.to_numpy()\n",
        "np.random.seed(0)\n",
        "X = numpy_array"
      ],
      "metadata": {
        "id": "akCP9TRa1JmD"
      },
      "execution_count": 10,
      "outputs": []
    },
    {
      "cell_type": "code",
      "source": [
        "# K-Means 알고리즘 구현\n",
        "def kmeans(X, k, max_iters=10000):\n",
        "    # 2. 초기 중심점 설정\n",
        "    np.random.shuffle(X)\n",
        "    centroids = X[:k]\n",
        "\n",
        "    for _ in range(max_iters):\n",
        "        # 3. 데이터 군집에 배정\n",
        "        labels = np.argmin(np.linalg.norm(X[:,np.newaxis] - centroids, axis=2), axis=1)\n",
        "\n",
        "        # 4. 중심점 재설정\n",
        "        new_centroids = np.array([X[labels == i].mean(axis=0) for i in range(k)])\n",
        "\n",
        "        # 클러스터 중심이 수렴하면 종료\n",
        "        if np.all(centroids == new_centroids):\n",
        "            break\n",
        "\n",
        "        centroids = new_centroids\n",
        "\n",
        "    return centroids, labels\n",
        "\n",
        "# 클러스터 실행\n",
        "k = 2\n",
        "centroids, labels = kmeans(X, k)"
      ],
      "metadata": {
        "id": "V6s7Su1c1aq7"
      },
      "execution_count": 11,
      "outputs": []
    },
    {
      "cell_type": "code",
      "source": [
        "# 결과 시각화\n",
        "plt.scatter(X[:,0], X[:,1], c=labels, s=50)\n",
        "plt.scatter(centroids[:,0], centroids[:,1], c='red', s=200, alpha=0.75)\n",
        "plt.xlabel(\"X\")\n",
        "plt.ylabel(\"Y\")\n",
        "plt.show()"
      ],
      "metadata": {
        "colab": {
          "base_uri": "https://localhost:8080/",
          "height": 449
        },
        "id": "ZRvZRbla1rBb",
        "outputId": "8524ce62-bd20-4238-e16d-efbea0c5c860"
      },
      "execution_count": 12,
      "outputs": [
        {
          "output_type": "display_data",
          "data": {
            "text/plain": [
              "<Figure size 640x480 with 1 Axes>"
            ],
            "image/png": "[encoded data removed]"
          },
          "metadata": {}
        }
      ]
    },
    {
      "cell_type": "code",
      "source": [
        "# K-Means 알고리즘 구현\n",
        "def kmeans(X, k, max_iters=10000):\n",
        "    # 2. 초기 중심점 설정\n",
        "    np.random.shuffle(X)\n",
        "    centroids = X[:k]\n",
        "\n",
        "    for _ in range(max_iters):\n",
        "        # 3. 데이터 군집에 배정\n",
        "        labels = np.argmin(np.linalg.norm(X[:,np.newaxis] - centroids, axis=2), axis=1)\n",
        "\n",
        "        # 4. 중심점 재설정\n",
        "        new_centroids = np.array([X[labels == i].mean(axis=0) for i in range(k)])\n",
        "\n",
        "        # 클러스터 중심이 수렴하면 종료\n",
        "        if np.all(centroids == new_centroids):\n",
        "            break\n",
        "\n",
        "        centroids = new_centroids\n",
        "\n",
        "    return centroids, labels\n",
        "\n",
        "# 클러스터 실행\n",
        "k = 2\n",
        "centroids, labels = kmeans(X, k)"
      ],
      "metadata": {
        "id": "ZXl-QilMDcO7"
      },
      "execution_count": null,
      "outputs": []
    },
    {
      "cell_type": "code",
      "source": [],
      "metadata": {
        "id": "YLatnQ231u3K"
      },
      "execution_count": null,
      "outputs": []
    },
    {
      "cell_type": "code",
      "source": [
        "# 결과 시각화\n",
        "plt.scatter(X[:,0], X[:,1], c=labels, s=50)\n",
        "plt.scatter(centroids[:,0], centroids[:,1], c='red', s=200, marker = '*', alpha=0.75)\n",
        "plt.xlabel(\"X\")\n",
        "plt.ylabel(\"Y\")\n",
        "plt.show()"
      ],
      "metadata": {
        "colab": {
          "base_uri": "https://localhost:8080/",
          "height": 449
        },
        "id": "GR0ihshLDeHL",
        "outputId": "60a4c148-ca7b-4030-c107-e5985caf639c"
      },
      "execution_count": 24,
      "outputs": [
        {
          "output_type": "display_data",
          "data": {
            "text/plain": [
              "<Figure size 640x480 with 1 Axes>"
            ],
            "image/png": "[encoded data removed]"
          },
          "metadata": {}
        }
      ]
    },
    {
      "cell_type": "code",
      "source": [],
      "metadata": {
        "id": "GqCxe0F_Di0j"
      },
      "execution_count": null,
      "outputs": []
    }
  ]
}