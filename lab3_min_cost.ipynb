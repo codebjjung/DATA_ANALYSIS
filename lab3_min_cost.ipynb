{
  "nbformat": 4,
  "nbformat_minor": 0,
  "metadata": {
    "colab": {
      "provenance": [],
      "authorship_tag": "ABX9TyMTxiGZzDLiE5soehdOtzg1",
      "include_colab_link": true
    },
    "kernelspec": {
      "name": "python3",
      "display_name": "Python 3"
    },
    "language_info": {
      "name": "python"
    }
  },
  "cells": [
    {
      "cell_type": "markdown",
      "metadata": {
        "id": "view-in-github",
        "colab_type": "text"
      },
      "source": [
        "<a href=\"https://colab.research.google.com/github/codebjjung/DATA_ANALYSIS/blob/main/lab3_min_cost.ipynb\" target=\"_parent\"><img src=\"https://colab.research.google.com/assets/colab-badge.svg\" alt=\"Open In Colab\"/></a>"
      ]
    },
    {
      "cell_type": "code",
      "execution_count": 17,
      "metadata": {
        "id": "g1Dv2iD0Rrlx"
      },
      "outputs": [],
      "source": [
        "import numpy as np\n",
        "import tensorflow as tf"
      ]
    },
    {
      "cell_type": "code",
      "source": [
        "x_data = np.array([1,2,3])\n",
        "y_data = np.array([1,2,3])"
      ],
      "metadata": {
        "id": "dmEL3zyrRx45"
      },
      "execution_count": 18,
      "outputs": []
    },
    {
      "cell_type": "code",
      "source": [
        "def cost_func(W,x_data,y_data):\n",
        "  hypo = x_data * W\n",
        "  return tf.reduce_mean(tf.square(hype - y_data))\n",
        "\n",
        "  W_values = np.linspace(-3, 5, num = 15)\n",
        "  cost_values = []\n",
        "\n",
        "  for feed_W in W_values:\n",
        "    curr_cost = cost_func(feed_W, x_data, y_data)\n",
        "    cost_values.append(curr_cost)\n",
        "    print(\"{:6.3f} | {:10.5f}\" .format(feed_W,curr_cost))"
      ],
      "metadata": {
        "id": "sNAreNidR2Nn"
      },
      "execution_count": 22,
      "outputs": []
    },
    {
      "cell_type": "code",
      "source": [
        "x_data = [1., 2., 3., 4.]\n",
        "y_data = [1., 3., 5., 7.]\n",
        "\n",
        "W = tf.Variable([5.0])\n",
        "\n",
        "for step in range(300):\n",
        "  hypo = W * x_data\n",
        "  cost = tf.reduce_mean(tf.square(hypo - y_data))\n",
        "\n",
        "  alpha = 0.01\n",
        "  grad = tf.reduce_mean(tf.multiply(tf.multiply(W, x_data) - y_data,x_data))\n",
        "  descent = W - tf.multiply(alpha, grad)\n",
        "  W.assign(descent)\n",
        "\n",
        "  if step % 10 == 0:\n",
        "    print('{:5} | {:10.4f} | {:10.6f}'.format(step, cost.numpy(), W.numpy()[0]))"
      ],
      "metadata": {
        "colab": {
          "base_uri": "https://localhost:8080/"
        },
        "id": "lPHAkIfQ06C0",
        "outputId": "f2095691-4289-4248-9967-bfd0a0e5a640"
      },
      "execution_count": 23,
      "outputs": [
        {
          "output_type": "stream",
          "name": "stdout",
          "text": [
            "    0 |    83.5000 |   4.750000\n",
            "   10 |    17.6915 |   3.080629\n",
            "   20 |     3.8521 |   2.315085\n",
            "   30 |     0.9417 |   1.964020\n",
            "   40 |     0.3297 |   1.803027\n",
            "   50 |     0.2009 |   1.729199\n",
            "   60 |     0.1739 |   1.695343\n",
            "   70 |     0.1682 |   1.679817\n",
            "   80 |     0.1670 |   1.672697\n",
            "   90 |     0.1667 |   1.669432\n",
            "  100 |     0.1667 |   1.667935\n",
            "  110 |     0.1667 |   1.667248\n",
            "  120 |     0.1667 |   1.666933\n",
            "  130 |     0.1667 |   1.666789\n",
            "  140 |     0.1667 |   1.666723\n",
            "  150 |     0.1667 |   1.666692\n",
            "  160 |     0.1667 |   1.666678\n",
            "  170 |     0.1667 |   1.666672\n",
            "  180 |     0.1667 |   1.666669\n",
            "  190 |     0.1667 |   1.666668\n",
            "  200 |     0.1667 |   1.666667\n",
            "  210 |     0.1667 |   1.666667\n",
            "  220 |     0.1667 |   1.666667\n",
            "  230 |     0.1667 |   1.666667\n",
            "  240 |     0.1667 |   1.666667\n",
            "  250 |     0.1667 |   1.666667\n",
            "  260 |     0.1667 |   1.666667\n",
            "  270 |     0.1667 |   1.666667\n",
            "  280 |     0.1667 |   1.666667\n",
            "  290 |     0.1667 |   1.666667\n"
          ]
        }
      ]
    },
    {
      "cell_type": "code",
      "source": [],
      "metadata": {
        "id": "2H16qQjJ1JSy"
      },
      "execution_count": null,
      "outputs": []
    }
  ]
}