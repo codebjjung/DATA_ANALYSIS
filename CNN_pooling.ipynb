{
  "nbformat": 4,
  "nbformat_minor": 0,
  "metadata": {
    "colab": {
      "provenance": [],
      "authorship_tag": "ABX9TyPpkJYOdtEVgjCYi3vO+JHN",
      "include_colab_link": true
    },
    "kernelspec": {
      "name": "python3",
      "display_name": "Python 3"
    },
    "language_info": {
      "name": "python"
    }
  },
  "cells": [
    {
      "cell_type": "markdown",
      "metadata": {
        "id": "view-in-github",
        "colab_type": "text"
      },
      "source": [
        "<a href=\"https://colab.research.google.com/github/codebjjung/DATA_ANALYSIS/blob/main/CNN_pooling.ipynb\" target=\"_parent\"><img src=\"https://colab.research.google.com/assets/colab-badge.svg\" alt=\"Open In Colab\"/></a>"
      ]
    },
    {
      "cell_type": "code",
      "execution_count": 5,
      "metadata": {
        "id": "vyXtHHlIRoEN"
      },
      "outputs": [],
      "source": [
        "import numpy as np\n",
        "import tensorflow as tf\n",
        "from tensorflow import keras\n",
        "import matplotlib.pyplot as plt"
      ]
    },
    {
      "cell_type": "code",
      "source": [
        "# Max pooling with valid padding\n",
        "image = tf.constant([[[[4],[3]],[[2],[1]]]], dtype=np.float32) # image (4,3,2,1) 2x2\n",
        "pool = keras.layers.MaxPool2D(pool_size=(2,2), strides=1, padding='VALID')(image) # pooling 2x2, valid padding\n",
        "print(pool.shape)\n",
        "print(pool.numpy())"
      ],
      "metadata": {
        "colab": {
          "base_uri": "https://localhost:8080/"
        },
        "id": "lnvT48IWRsyp",
        "outputId": "425956c4-4dd5-4e9b-dd83-5b12ffde25ae"
      },
      "execution_count": 10,
      "outputs": [
        {
          "output_type": "stream",
          "name": "stdout",
          "text": [
            "(1, 1, 1, 1)\n",
            "[[[[4.]]]]\n"
          ]
        }
      ]
    },
    {
      "cell_type": "code",
      "source": [
        "# Max pooling with same padding\n",
        "image = tf.constant([[[[4],[3]],[[2],[1]]]], dtype=np.float32) # image (4,3,2,1) 2x2\n",
        "pool = keras.layers.MaxPool2D(pool_size=(2,2), strides=1, padding='SAME')(image) # pooling 2x2, same padding\n",
        "print(pool.shape)\n",
        "print(pool.numpy())"
      ],
      "metadata": {
        "colab": {
          "base_uri": "https://localhost:8080/"
        },
        "id": "51bRdkm9SKn2",
        "outputId": "77b6c839-6272-4ea6-b3bc-7561ecb3890c"
      },
      "execution_count": 11,
      "outputs": [
        {
          "output_type": "stream",
          "name": "stdout",
          "text": [
            "(1, 2, 2, 1)\n",
            "[[[[4.]\n",
            "   [3.]]\n",
            "\n",
            "  [[2.]\n",
            "   [1.]]]]\n"
          ]
        }
      ]
    },
    {
      "cell_type": "code",
      "source": [],
      "metadata": {
        "id": "UeLS1DtPSpWt"
      },
      "execution_count": null,
      "outputs": []
    }
  ]
}