{
  "nbformat": 4,
  "nbformat_minor": 0,
  "metadata": {
    "colab": {
      "provenance": [],
      "authorship_tag": "ABX9TyMnicBT/yaU+yuBfXAvwe+V",
      "include_colab_link": true
    },
    "kernelspec": {
      "name": "python3",
      "display_name": "Python 3"
    },
    "language_info": {
      "name": "python"
    }
  },
  "cells": [
    {
      "cell_type": "markdown",
      "metadata": {
        "id": "view-in-github",
        "colab_type": "text"
      },
      "source": [
        "<a href=\"https://colab.research.google.com/github/codebjjung/DATA_ANALYSIS/blob/main/KNN_independent_style.ipynb\" target=\"_parent\"><img src=\"https://colab.research.google.com/assets/colab-badge.svg\" alt=\"Open In Colab\"/></a>"
      ]
    },
    {
      "cell_type": "code",
      "source": [
        "import pandas as pd\n",
        "import numpy as np\n",
        "import matplotlib.pyplot as plt"
      ],
      "metadata": {
        "id": "Xu4vWSWnVcSD"
      },
      "execution_count": 1,
      "outputs": []
    },
    {
      "cell_type": "code",
      "source": [
        "from google.colab import drive\n",
        "drive.mount(\"/content/gdrive/\")"
      ],
      "metadata": {
        "colab": {
          "base_uri": "https://localhost:8080/"
        },
        "id": "G7n4pmmoVduw",
        "outputId": "05c48fd9-9da0-44ec-fd9d-ef316dd832f4"
      },
      "execution_count": 2,
      "outputs": [
        {
          "output_type": "stream",
          "name": "stdout",
          "text": [
            "Mounted at /content/gdrive/\n"
          ]
        }
      ]
    },
    {
      "cell_type": "code",
      "source": [
        "cd /content/gdrive/MyDrive/Colab Notebooks/open/"
      ],
      "metadata": {
        "colab": {
          "base_uri": "https://localhost:8080/"
        },
        "id": "O980bWktVfFq",
        "outputId": "f83c57e1-2504-4797-a9a0-c46d7b11426e"
      },
      "execution_count": 3,
      "outputs": [
        {
          "output_type": "stream",
          "name": "stdout",
          "text": [
            "/content/gdrive/MyDrive/Colab Notebooks/open\n"
          ]
        }
      ]
    },
    {
      "cell_type": "code",
      "execution_count": 55,
      "metadata": {
        "colab": {
          "base_uri": "https://localhost:8080/"
        },
        "id": "Xux7aposY_Tl",
        "outputId": "c1599c15-27b9-4b2f-d00a-92e53b09b2d5"
      },
      "outputs": [
        {
          "output_type": "stream",
          "name": "stdout",
          "text": [
            "[19.869826370655577, 13.744089638822931, 5.1312766442670075, 12.701574705523717, 4.6065171225124, 0.7071067811865476, 26.836542251191748, 3.4928498393145877, 10.104454463255305, 3.4132096331752075, 9.725224933131368]\n",
            "[8.414867794564573, 9.762171889492627, 23.09826833336213, 29.700673393039427, 16.959363195591994, 20.89258241577618, 47.73468340735067, 24.153674668671016, 30.732718721258617, 20.22992832414391, 13.482581355215318]\n",
            "[31.30511140373086, 25.10975905897943, 14.653668482670144, 18.572291188757504, 15.761345120261778, 12.349089035228468, 22.507776433935, 8.209750300709523, 2.1213203435596366, 14.807092894960851, 18.24773958604189]\n"
          ]
        }
      ],
      "source": [
        "data = pd.read_excel('random.xlsx')\n",
        "X_train = data[['Height','Weight']].values\n",
        "y_train = data['Group'].values\n",
        "X_test = np.array([[173,68], [181, 88], [163,62]])\n",
        "\n",
        "#print(X_train)\n",
        "d1 = []\n",
        "d2 = []\n",
        "d3 = []\n",
        "for i in range(11):\n",
        "  for k in range(len(X_test)):\n",
        "    d = ((X_train[i][0]-X_test[k][0])**2+(X_train[i][1]-X_test[k][1])**2)**0.5\n",
        "    if k == 0:\n",
        "      d1.append(d)\n",
        "    elif k == 1:\n",
        "      d2.append(d)\n",
        "    else:\n",
        "      d3.append(d)\n",
        "\n",
        "print(d1)\n",
        "print(d2)\n",
        "print(d3)\n",
        "\n",
        "d1 = d1.sort()\n",
        "\n",
        "#for x_test in X_test:\n",
        " #  distances = np.sqrt(np.sum((X_train - x_test)**2, axis=1))\n",
        "  # print(distances)\n",
        "\n",
        "\n"
      ]
    },
    {
      "cell_type": "code",
      "source": [],
      "metadata": {
        "id": "FOuatXboZDat"
      },
      "execution_count": null,
      "outputs": []
    }
  ]
}